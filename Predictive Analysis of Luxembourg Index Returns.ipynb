{
  "nbformat": 4,
  "nbformat_minor": 0,
  "metadata": {
    "colab": {
      "provenance": []
    },
    "kernelspec": {
      "name": "python3",
      "display_name": "Python 3"
    },
    "language_info": {
      "name": "python"
    }
  },
  "cells": [
    {
      "cell_type": "markdown",
      "source": [
        "Problem to solve:\n",
        "\n",
        "predict whether the Luxembourg index (LUXXX) exceeds a return of 0.25% in any direction\n",
        "\n",
        "predictors are a combination of country indices and technical indicators."
      ],
      "metadata": {
        "id": "9lIdW-3IdmuL"
      }
    },
    {
      "cell_type": "code",
      "execution_count": null,
      "metadata": {
        "id": "7uj5CeCKa3TV"
      },
      "outputs": [],
      "source": [
        "import warnings\n",
        "import numpy as np\n",
        "import pandas as pd\n",
        "\n",
        "warnings.filterwarnings('ignore')\n",
        "\n",
        "data_df = pd.read_excel(\"/content/test.xlsx\")\n",
        "data_df['Date'] = pd.to_datetime(data_df[\"Date\"])"
      ]
    },
    {
      "cell_type": "code",
      "source": [
        "data_df.head()"
      ],
      "metadata": {
        "colab": {
          "base_uri": "https://localhost:8080/",
          "height": 421
        },
        "id": "8Q3zvKZcb2nB",
        "outputId": "c6b4ad28-cc91-4a66-b9d3-97e69884a6d3"
      },
      "execution_count": null,
      "outputs": [
        {
          "output_type": "execute_result",
          "data": {
            "text/plain": [
              "        Date     LUXXX  MSCI ARGENTINA  BLP ORIENTE MEDIO  MSCI AUSTRALIA  \\\n",
              "0 2016-01-01  1390.716         2376.29          3525.9150         1068.79   \n",
              "1 2016-01-08  1291.267         2260.85          3280.6683         1005.56   \n",
              "2 2016-01-15  1257.086         2217.50          3118.2981          985.38   \n",
              "3 2016-01-22  1254.167         2281.98          2935.0677          985.87   \n",
              "4 2016-01-29  1298.240         2462.19          3134.0840         1005.56   \n",
              "\n",
              "   MSCI AUSTRIA  MSCI BELGIUM  MSCI BRAZIL  MSCI CANADA  MSCI CHINA  ...  \\\n",
              "0        106.70        105.38      1036.23      1663.27       59.47  ...   \n",
              "1         97.66         99.35       952.01      1586.18       54.63  ...   \n",
              "2         93.54         97.32       904.64      1541.08       51.54  ...   \n",
              "3         95.79        100.73       879.17      1582.10       51.15  ...   \n",
              "4         96.93        103.05       958.97      1638.84       52.13  ...   \n",
              "\n",
              "   MSCI NORWAY  MSCI PERU  MSCI RUSSIA  MSCI SINGAPORE  MSCI SOUTH AFRICA  \\\n",
              "0      2373.17     811.96       404.73       1507.8101            1255.75   \n",
              "1      2209.38     751.09       388.05       1437.6600            1177.76   \n",
              "2      2095.60     720.23       344.45       1372.9800            1133.72   \n",
              "3      2173.55     745.96       367.44       1350.0500            1160.48   \n",
              "4      2214.88     825.18       400.93       1375.1000            1239.58   \n",
              "\n",
              "   MSCI SPAIN  MSCI SWEDEN  MSCI SWITZERLAND  MSCI UK  MSCI USA  \n",
              "0      108.40     11136.65           1148.37  1818.40   1949.70  \n",
              "1      101.00     10389.93           1075.30  1722.00   1831.88  \n",
              "2       97.34     10042.32           1056.01  1692.43   1789.56  \n",
              "3       99.21     10469.07           1076.48  1719.61   1814.12  \n",
              "4      100.06     10432.42           1087.17  1774.40   1843.88  \n",
              "\n",
              "[5 rows x 36 columns]"
            ],
            "text/html": [
              "\n",
              "  <div id=\"df-b0dc70f7-60c0-4fea-bbe0-61a3dd168ef3\">\n",
              "    <div class=\"colab-df-container\">\n",
              "      <div>\n",
              "<style scoped>\n",
              "    .dataframe tbody tr th:only-of-type {\n",
              "        vertical-align: middle;\n",
              "    }\n",
              "\n",
              "    .dataframe tbody tr th {\n",
              "        vertical-align: top;\n",
              "    }\n",
              "\n",
              "    .dataframe thead th {\n",
              "        text-align: right;\n",
              "    }\n",
              "</style>\n",
              "<table border=\"1\" class=\"dataframe\">\n",
              "  <thead>\n",
              "    <tr style=\"text-align: right;\">\n",
              "      <th></th>\n",
              "      <th>Date</th>\n",
              "      <th>LUXXX</th>\n",
              "      <th>MSCI ARGENTINA</th>\n",
              "      <th>BLP ORIENTE MEDIO</th>\n",
              "      <th>MSCI AUSTRALIA</th>\n",
              "      <th>MSCI AUSTRIA</th>\n",
              "      <th>MSCI BELGIUM</th>\n",
              "      <th>MSCI BRAZIL</th>\n",
              "      <th>MSCI CANADA</th>\n",
              "      <th>MSCI CHINA</th>\n",
              "      <th>...</th>\n",
              "      <th>MSCI NORWAY</th>\n",
              "      <th>MSCI PERU</th>\n",
              "      <th>MSCI RUSSIA</th>\n",
              "      <th>MSCI SINGAPORE</th>\n",
              "      <th>MSCI SOUTH AFRICA</th>\n",
              "      <th>MSCI SPAIN</th>\n",
              "      <th>MSCI SWEDEN</th>\n",
              "      <th>MSCI SWITZERLAND</th>\n",
              "      <th>MSCI UK</th>\n",
              "      <th>MSCI USA</th>\n",
              "    </tr>\n",
              "  </thead>\n",
              "  <tbody>\n",
              "    <tr>\n",
              "      <th>0</th>\n",
              "      <td>2016-01-01</td>\n",
              "      <td>1390.716</td>\n",
              "      <td>2376.29</td>\n",
              "      <td>3525.9150</td>\n",
              "      <td>1068.79</td>\n",
              "      <td>106.70</td>\n",
              "      <td>105.38</td>\n",
              "      <td>1036.23</td>\n",
              "      <td>1663.27</td>\n",
              "      <td>59.47</td>\n",
              "      <td>...</td>\n",
              "      <td>2373.17</td>\n",
              "      <td>811.96</td>\n",
              "      <td>404.73</td>\n",
              "      <td>1507.8101</td>\n",
              "      <td>1255.75</td>\n",
              "      <td>108.40</td>\n",
              "      <td>11136.65</td>\n",
              "      <td>1148.37</td>\n",
              "      <td>1818.40</td>\n",
              "      <td>1949.70</td>\n",
              "    </tr>\n",
              "    <tr>\n",
              "      <th>1</th>\n",
              "      <td>2016-01-08</td>\n",
              "      <td>1291.267</td>\n",
              "      <td>2260.85</td>\n",
              "      <td>3280.6683</td>\n",
              "      <td>1005.56</td>\n",
              "      <td>97.66</td>\n",
              "      <td>99.35</td>\n",
              "      <td>952.01</td>\n",
              "      <td>1586.18</td>\n",
              "      <td>54.63</td>\n",
              "      <td>...</td>\n",
              "      <td>2209.38</td>\n",
              "      <td>751.09</td>\n",
              "      <td>388.05</td>\n",
              "      <td>1437.6600</td>\n",
              "      <td>1177.76</td>\n",
              "      <td>101.00</td>\n",
              "      <td>10389.93</td>\n",
              "      <td>1075.30</td>\n",
              "      <td>1722.00</td>\n",
              "      <td>1831.88</td>\n",
              "    </tr>\n",
              "    <tr>\n",
              "      <th>2</th>\n",
              "      <td>2016-01-15</td>\n",
              "      <td>1257.086</td>\n",
              "      <td>2217.50</td>\n",
              "      <td>3118.2981</td>\n",
              "      <td>985.38</td>\n",
              "      <td>93.54</td>\n",
              "      <td>97.32</td>\n",
              "      <td>904.64</td>\n",
              "      <td>1541.08</td>\n",
              "      <td>51.54</td>\n",
              "      <td>...</td>\n",
              "      <td>2095.60</td>\n",
              "      <td>720.23</td>\n",
              "      <td>344.45</td>\n",
              "      <td>1372.9800</td>\n",
              "      <td>1133.72</td>\n",
              "      <td>97.34</td>\n",
              "      <td>10042.32</td>\n",
              "      <td>1056.01</td>\n",
              "      <td>1692.43</td>\n",
              "      <td>1789.56</td>\n",
              "    </tr>\n",
              "    <tr>\n",
              "      <th>3</th>\n",
              "      <td>2016-01-22</td>\n",
              "      <td>1254.167</td>\n",
              "      <td>2281.98</td>\n",
              "      <td>2935.0677</td>\n",
              "      <td>985.87</td>\n",
              "      <td>95.79</td>\n",
              "      <td>100.73</td>\n",
              "      <td>879.17</td>\n",
              "      <td>1582.10</td>\n",
              "      <td>51.15</td>\n",
              "      <td>...</td>\n",
              "      <td>2173.55</td>\n",
              "      <td>745.96</td>\n",
              "      <td>367.44</td>\n",
              "      <td>1350.0500</td>\n",
              "      <td>1160.48</td>\n",
              "      <td>99.21</td>\n",
              "      <td>10469.07</td>\n",
              "      <td>1076.48</td>\n",
              "      <td>1719.61</td>\n",
              "      <td>1814.12</td>\n",
              "    </tr>\n",
              "    <tr>\n",
              "      <th>4</th>\n",
              "      <td>2016-01-29</td>\n",
              "      <td>1298.240</td>\n",
              "      <td>2462.19</td>\n",
              "      <td>3134.0840</td>\n",
              "      <td>1005.56</td>\n",
              "      <td>96.93</td>\n",
              "      <td>103.05</td>\n",
              "      <td>958.97</td>\n",
              "      <td>1638.84</td>\n",
              "      <td>52.13</td>\n",
              "      <td>...</td>\n",
              "      <td>2214.88</td>\n",
              "      <td>825.18</td>\n",
              "      <td>400.93</td>\n",
              "      <td>1375.1000</td>\n",
              "      <td>1239.58</td>\n",
              "      <td>100.06</td>\n",
              "      <td>10432.42</td>\n",
              "      <td>1087.17</td>\n",
              "      <td>1774.40</td>\n",
              "      <td>1843.88</td>\n",
              "    </tr>\n",
              "  </tbody>\n",
              "</table>\n",
              "<p>5 rows × 36 columns</p>\n",
              "</div>\n",
              "      <button class=\"colab-df-convert\" onclick=\"convertToInteractive('df-b0dc70f7-60c0-4fea-bbe0-61a3dd168ef3')\"\n",
              "              title=\"Convert this dataframe to an interactive table.\"\n",
              "              style=\"display:none;\">\n",
              "        \n",
              "  <svg xmlns=\"http://www.w3.org/2000/svg\" height=\"24px\"viewBox=\"0 0 24 24\"\n",
              "       width=\"24px\">\n",
              "    <path d=\"M0 0h24v24H0V0z\" fill=\"none\"/>\n",
              "    <path d=\"M18.56 5.44l.94 2.06.94-2.06 2.06-.94-2.06-.94-.94-2.06-.94 2.06-2.06.94zm-11 1L8.5 8.5l.94-2.06 2.06-.94-2.06-.94L8.5 2.5l-.94 2.06-2.06.94zm10 10l.94 2.06.94-2.06 2.06-.94-2.06-.94-.94-2.06-.94 2.06-2.06.94z\"/><path d=\"M17.41 7.96l-1.37-1.37c-.4-.4-.92-.59-1.43-.59-.52 0-1.04.2-1.43.59L10.3 9.45l-7.72 7.72c-.78.78-.78 2.05 0 2.83L4 21.41c.39.39.9.59 1.41.59.51 0 1.02-.2 1.41-.59l7.78-7.78 2.81-2.81c.8-.78.8-2.07 0-2.86zM5.41 20L4 18.59l7.72-7.72 1.47 1.35L5.41 20z\"/>\n",
              "  </svg>\n",
              "      </button>\n",
              "      \n",
              "  <style>\n",
              "    .colab-df-container {\n",
              "      display:flex;\n",
              "      flex-wrap:wrap;\n",
              "      gap: 12px;\n",
              "    }\n",
              "\n",
              "    .colab-df-convert {\n",
              "      background-color: #E8F0FE;\n",
              "      border: none;\n",
              "      border-radius: 50%;\n",
              "      cursor: pointer;\n",
              "      display: none;\n",
              "      fill: #1967D2;\n",
              "      height: 32px;\n",
              "      padding: 0 0 0 0;\n",
              "      width: 32px;\n",
              "    }\n",
              "\n",
              "    .colab-df-convert:hover {\n",
              "      background-color: #E2EBFA;\n",
              "      box-shadow: 0px 1px 2px rgba(60, 64, 67, 0.3), 0px 1px 3px 1px rgba(60, 64, 67, 0.15);\n",
              "      fill: #174EA6;\n",
              "    }\n",
              "\n",
              "    [theme=dark] .colab-df-convert {\n",
              "      background-color: #3B4455;\n",
              "      fill: #D2E3FC;\n",
              "    }\n",
              "\n",
              "    [theme=dark] .colab-df-convert:hover {\n",
              "      background-color: #434B5C;\n",
              "      box-shadow: 0px 1px 3px 1px rgba(0, 0, 0, 0.15);\n",
              "      filter: drop-shadow(0px 1px 2px rgba(0, 0, 0, 0.3));\n",
              "      fill: #FFFFFF;\n",
              "    }\n",
              "  </style>\n",
              "\n",
              "      <script>\n",
              "        const buttonEl =\n",
              "          document.querySelector('#df-b0dc70f7-60c0-4fea-bbe0-61a3dd168ef3 button.colab-df-convert');\n",
              "        buttonEl.style.display =\n",
              "          google.colab.kernel.accessAllowed ? 'block' : 'none';\n",
              "\n",
              "        async function convertToInteractive(key) {\n",
              "          const element = document.querySelector('#df-b0dc70f7-60c0-4fea-bbe0-61a3dd168ef3');\n",
              "          const dataTable =\n",
              "            await google.colab.kernel.invokeFunction('convertToInteractive',\n",
              "                                                     [key], {});\n",
              "          if (!dataTable) return;\n",
              "\n",
              "          const docLinkHtml = 'Like what you see? Visit the ' +\n",
              "            '<a target=\"_blank\" href=https://colab.research.google.com/notebooks/data_table.ipynb>data table notebook</a>'\n",
              "            + ' to learn more about interactive tables.';\n",
              "          element.innerHTML = '';\n",
              "          dataTable['output_type'] = 'display_data';\n",
              "          await google.colab.output.renderOutput(dataTable, element);\n",
              "          const docLink = document.createElement('div');\n",
              "          docLink.innerHTML = docLinkHtml;\n",
              "          element.appendChild(docLink);\n",
              "        }\n",
              "      </script>\n",
              "    </div>\n",
              "  </div>\n",
              "  "
            ]
          },
          "metadata": {},
          "execution_count": 14
        }
      ]
    },
    {
      "cell_type": "code",
      "source": [
        "target_ETF = 'LUXXX'\n",
        "\n",
        "ETF_features = data_df.loc[:, ~data_df.columns.isin([\"Date\", target_ETF])].columns\n",
        "data_df[ETF_features] = data_df[ETF_features].pct_change()\n",
        "\n",
        "data_df[target_ETF + \"_returns\"] = data_df[target_ETF].pct_change()\n",
        "\n",
        "data_df[target_ETF + \"_returns\" + \"_Shift\"] = data_df[target_ETF + \"_returns\"].shift(-1)\n",
        "\n",
        "data_df[\"Target\"] = np.where(\n",
        "    (data_df[target_ETF + \"_returns_Shift\"].abs() > 0.025), 1, 0\n",
        ")"
      ],
      "metadata": {
        "id": "kQWWunYOb79s"
      },
      "execution_count": null,
      "outputs": []
    },
    {
      "cell_type": "code",
      "source": [
        "data_df.head()"
      ],
      "metadata": {
        "colab": {
          "base_uri": "https://localhost:8080/",
          "height": 421
        },
        "id": "QsvoPbIlcpph",
        "outputId": "0f7a51d7-e166-4684-c96c-65cfa0b73397"
      },
      "execution_count": null,
      "outputs": [
        {
          "output_type": "execute_result",
          "data": {
            "text/plain": [
              "        Date     LUXXX  MSCI ARGENTINA  BLP ORIENTE MEDIO  MSCI AUSTRALIA  \\\n",
              "0 2016-01-01  1390.716             NaN                NaN             NaN   \n",
              "1 2016-01-08  1291.267       -0.048580          -0.069555       -0.059160   \n",
              "2 2016-01-15  1257.086       -0.019174          -0.049493       -0.020068   \n",
              "3 2016-01-22  1254.167        0.029078          -0.058760        0.000497   \n",
              "4 2016-01-29  1298.240        0.078971           0.067806        0.019972   \n",
              "\n",
              "   MSCI AUSTRIA  MSCI BELGIUM  MSCI BRAZIL  MSCI CANADA  MSCI CHINA  ...  \\\n",
              "0           NaN           NaN          NaN          NaN         NaN  ...   \n",
              "1     -0.084724     -0.057221    -0.081275    -0.046348   -0.081386  ...   \n",
              "2     -0.042187     -0.020433    -0.049758    -0.028433   -0.056562  ...   \n",
              "3      0.024054      0.035039    -0.028155     0.026618   -0.007567  ...   \n",
              "4      0.011901      0.023032     0.090767     0.035864    0.019159  ...   \n",
              "\n",
              "   MSCI SINGAPORE  MSCI SOUTH AFRICA  MSCI SPAIN  MSCI SWEDEN  \\\n",
              "0             NaN                NaN         NaN          NaN   \n",
              "1       -0.046524          -0.062106   -0.068266    -0.067051   \n",
              "2       -0.044990          -0.037393   -0.036238    -0.033456   \n",
              "3       -0.016701           0.023604    0.019211     0.042495   \n",
              "4        0.018555           0.068161    0.008568    -0.003501   \n",
              "\n",
              "   MSCI SWITZERLAND   MSCI UK  MSCI USA  LUXXX_returns  LUXXX_returns_Shift  \\\n",
              "0               NaN       NaN       NaN            NaN            -0.071509   \n",
              "1         -0.063629 -0.053014 -0.060430      -0.071509            -0.026471   \n",
              "2         -0.017939 -0.017172 -0.023102      -0.026471            -0.002322   \n",
              "3          0.019384  0.016060  0.013724      -0.002322             0.035141   \n",
              "4          0.009931  0.031862  0.016405       0.035141            -0.018185   \n",
              "\n",
              "   Target  \n",
              "0       1  \n",
              "1       1  \n",
              "2       0  \n",
              "3       1  \n",
              "4       0  \n",
              "\n",
              "[5 rows x 39 columns]"
            ],
            "text/html": [
              "\n",
              "  <div id=\"df-1d842d3e-0d51-462c-9752-7be05cd99b66\">\n",
              "    <div class=\"colab-df-container\">\n",
              "      <div>\n",
              "<style scoped>\n",
              "    .dataframe tbody tr th:only-of-type {\n",
              "        vertical-align: middle;\n",
              "    }\n",
              "\n",
              "    .dataframe tbody tr th {\n",
              "        vertical-align: top;\n",
              "    }\n",
              "\n",
              "    .dataframe thead th {\n",
              "        text-align: right;\n",
              "    }\n",
              "</style>\n",
              "<table border=\"1\" class=\"dataframe\">\n",
              "  <thead>\n",
              "    <tr style=\"text-align: right;\">\n",
              "      <th></th>\n",
              "      <th>Date</th>\n",
              "      <th>LUXXX</th>\n",
              "      <th>MSCI ARGENTINA</th>\n",
              "      <th>BLP ORIENTE MEDIO</th>\n",
              "      <th>MSCI AUSTRALIA</th>\n",
              "      <th>MSCI AUSTRIA</th>\n",
              "      <th>MSCI BELGIUM</th>\n",
              "      <th>MSCI BRAZIL</th>\n",
              "      <th>MSCI CANADA</th>\n",
              "      <th>MSCI CHINA</th>\n",
              "      <th>...</th>\n",
              "      <th>MSCI SINGAPORE</th>\n",
              "      <th>MSCI SOUTH AFRICA</th>\n",
              "      <th>MSCI SPAIN</th>\n",
              "      <th>MSCI SWEDEN</th>\n",
              "      <th>MSCI SWITZERLAND</th>\n",
              "      <th>MSCI UK</th>\n",
              "      <th>MSCI USA</th>\n",
              "      <th>LUXXX_returns</th>\n",
              "      <th>LUXXX_returns_Shift</th>\n",
              "      <th>Target</th>\n",
              "    </tr>\n",
              "  </thead>\n",
              "  <tbody>\n",
              "    <tr>\n",
              "      <th>0</th>\n",
              "      <td>2016-01-01</td>\n",
              "      <td>1390.716</td>\n",
              "      <td>NaN</td>\n",
              "      <td>NaN</td>\n",
              "      <td>NaN</td>\n",
              "      <td>NaN</td>\n",
              "      <td>NaN</td>\n",
              "      <td>NaN</td>\n",
              "      <td>NaN</td>\n",
              "      <td>NaN</td>\n",
              "      <td>...</td>\n",
              "      <td>NaN</td>\n",
              "      <td>NaN</td>\n",
              "      <td>NaN</td>\n",
              "      <td>NaN</td>\n",
              "      <td>NaN</td>\n",
              "      <td>NaN</td>\n",
              "      <td>NaN</td>\n",
              "      <td>NaN</td>\n",
              "      <td>-0.071509</td>\n",
              "      <td>1</td>\n",
              "    </tr>\n",
              "    <tr>\n",
              "      <th>1</th>\n",
              "      <td>2016-01-08</td>\n",
              "      <td>1291.267</td>\n",
              "      <td>-0.048580</td>\n",
              "      <td>-0.069555</td>\n",
              "      <td>-0.059160</td>\n",
              "      <td>-0.084724</td>\n",
              "      <td>-0.057221</td>\n",
              "      <td>-0.081275</td>\n",
              "      <td>-0.046348</td>\n",
              "      <td>-0.081386</td>\n",
              "      <td>...</td>\n",
              "      <td>-0.046524</td>\n",
              "      <td>-0.062106</td>\n",
              "      <td>-0.068266</td>\n",
              "      <td>-0.067051</td>\n",
              "      <td>-0.063629</td>\n",
              "      <td>-0.053014</td>\n",
              "      <td>-0.060430</td>\n",
              "      <td>-0.071509</td>\n",
              "      <td>-0.026471</td>\n",
              "      <td>1</td>\n",
              "    </tr>\n",
              "    <tr>\n",
              "      <th>2</th>\n",
              "      <td>2016-01-15</td>\n",
              "      <td>1257.086</td>\n",
              "      <td>-0.019174</td>\n",
              "      <td>-0.049493</td>\n",
              "      <td>-0.020068</td>\n",
              "      <td>-0.042187</td>\n",
              "      <td>-0.020433</td>\n",
              "      <td>-0.049758</td>\n",
              "      <td>-0.028433</td>\n",
              "      <td>-0.056562</td>\n",
              "      <td>...</td>\n",
              "      <td>-0.044990</td>\n",
              "      <td>-0.037393</td>\n",
              "      <td>-0.036238</td>\n",
              "      <td>-0.033456</td>\n",
              "      <td>-0.017939</td>\n",
              "      <td>-0.017172</td>\n",
              "      <td>-0.023102</td>\n",
              "      <td>-0.026471</td>\n",
              "      <td>-0.002322</td>\n",
              "      <td>0</td>\n",
              "    </tr>\n",
              "    <tr>\n",
              "      <th>3</th>\n",
              "      <td>2016-01-22</td>\n",
              "      <td>1254.167</td>\n",
              "      <td>0.029078</td>\n",
              "      <td>-0.058760</td>\n",
              "      <td>0.000497</td>\n",
              "      <td>0.024054</td>\n",
              "      <td>0.035039</td>\n",
              "      <td>-0.028155</td>\n",
              "      <td>0.026618</td>\n",
              "      <td>-0.007567</td>\n",
              "      <td>...</td>\n",
              "      <td>-0.016701</td>\n",
              "      <td>0.023604</td>\n",
              "      <td>0.019211</td>\n",
              "      <td>0.042495</td>\n",
              "      <td>0.019384</td>\n",
              "      <td>0.016060</td>\n",
              "      <td>0.013724</td>\n",
              "      <td>-0.002322</td>\n",
              "      <td>0.035141</td>\n",
              "      <td>1</td>\n",
              "    </tr>\n",
              "    <tr>\n",
              "      <th>4</th>\n",
              "      <td>2016-01-29</td>\n",
              "      <td>1298.240</td>\n",
              "      <td>0.078971</td>\n",
              "      <td>0.067806</td>\n",
              "      <td>0.019972</td>\n",
              "      <td>0.011901</td>\n",
              "      <td>0.023032</td>\n",
              "      <td>0.090767</td>\n",
              "      <td>0.035864</td>\n",
              "      <td>0.019159</td>\n",
              "      <td>...</td>\n",
              "      <td>0.018555</td>\n",
              "      <td>0.068161</td>\n",
              "      <td>0.008568</td>\n",
              "      <td>-0.003501</td>\n",
              "      <td>0.009931</td>\n",
              "      <td>0.031862</td>\n",
              "      <td>0.016405</td>\n",
              "      <td>0.035141</td>\n",
              "      <td>-0.018185</td>\n",
              "      <td>0</td>\n",
              "    </tr>\n",
              "  </tbody>\n",
              "</table>\n",
              "<p>5 rows × 39 columns</p>\n",
              "</div>\n",
              "      <button class=\"colab-df-convert\" onclick=\"convertToInteractive('df-1d842d3e-0d51-462c-9752-7be05cd99b66')\"\n",
              "              title=\"Convert this dataframe to an interactive table.\"\n",
              "              style=\"display:none;\">\n",
              "        \n",
              "  <svg xmlns=\"http://www.w3.org/2000/svg\" height=\"24px\"viewBox=\"0 0 24 24\"\n",
              "       width=\"24px\">\n",
              "    <path d=\"M0 0h24v24H0V0z\" fill=\"none\"/>\n",
              "    <path d=\"M18.56 5.44l.94 2.06.94-2.06 2.06-.94-2.06-.94-.94-2.06-.94 2.06-2.06.94zm-11 1L8.5 8.5l.94-2.06 2.06-.94-2.06-.94L8.5 2.5l-.94 2.06-2.06.94zm10 10l.94 2.06.94-2.06 2.06-.94-2.06-.94-.94-2.06-.94 2.06-2.06.94z\"/><path d=\"M17.41 7.96l-1.37-1.37c-.4-.4-.92-.59-1.43-.59-.52 0-1.04.2-1.43.59L10.3 9.45l-7.72 7.72c-.78.78-.78 2.05 0 2.83L4 21.41c.39.39.9.59 1.41.59.51 0 1.02-.2 1.41-.59l7.78-7.78 2.81-2.81c.8-.78.8-2.07 0-2.86zM5.41 20L4 18.59l7.72-7.72 1.47 1.35L5.41 20z\"/>\n",
              "  </svg>\n",
              "      </button>\n",
              "      \n",
              "  <style>\n",
              "    .colab-df-container {\n",
              "      display:flex;\n",
              "      flex-wrap:wrap;\n",
              "      gap: 12px;\n",
              "    }\n",
              "\n",
              "    .colab-df-convert {\n",
              "      background-color: #E8F0FE;\n",
              "      border: none;\n",
              "      border-radius: 50%;\n",
              "      cursor: pointer;\n",
              "      display: none;\n",
              "      fill: #1967D2;\n",
              "      height: 32px;\n",
              "      padding: 0 0 0 0;\n",
              "      width: 32px;\n",
              "    }\n",
              "\n",
              "    .colab-df-convert:hover {\n",
              "      background-color: #E2EBFA;\n",
              "      box-shadow: 0px 1px 2px rgba(60, 64, 67, 0.3), 0px 1px 3px 1px rgba(60, 64, 67, 0.15);\n",
              "      fill: #174EA6;\n",
              "    }\n",
              "\n",
              "    [theme=dark] .colab-df-convert {\n",
              "      background-color: #3B4455;\n",
              "      fill: #D2E3FC;\n",
              "    }\n",
              "\n",
              "    [theme=dark] .colab-df-convert:hover {\n",
              "      background-color: #434B5C;\n",
              "      box-shadow: 0px 1px 3px 1px rgba(0, 0, 0, 0.15);\n",
              "      filter: drop-shadow(0px 1px 2px rgba(0, 0, 0, 0.3));\n",
              "      fill: #FFFFFF;\n",
              "    }\n",
              "  </style>\n",
              "\n",
              "      <script>\n",
              "        const buttonEl =\n",
              "          document.querySelector('#df-1d842d3e-0d51-462c-9752-7be05cd99b66 button.colab-df-convert');\n",
              "        buttonEl.style.display =\n",
              "          google.colab.kernel.accessAllowed ? 'block' : 'none';\n",
              "\n",
              "        async function convertToInteractive(key) {\n",
              "          const element = document.querySelector('#df-1d842d3e-0d51-462c-9752-7be05cd99b66');\n",
              "          const dataTable =\n",
              "            await google.colab.kernel.invokeFunction('convertToInteractive',\n",
              "                                                     [key], {});\n",
              "          if (!dataTable) return;\n",
              "\n",
              "          const docLinkHtml = 'Like what you see? Visit the ' +\n",
              "            '<a target=\"_blank\" href=https://colab.research.google.com/notebooks/data_table.ipynb>data table notebook</a>'\n",
              "            + ' to learn more about interactive tables.';\n",
              "          element.innerHTML = '';\n",
              "          dataTable['output_type'] = 'display_data';\n",
              "          await google.colab.output.renderOutput(dataTable, element);\n",
              "          const docLink = document.createElement('div');\n",
              "          docLink.innerHTML = docLinkHtml;\n",
              "          element.appendChild(docLink);\n",
              "        }\n",
              "      </script>\n",
              "    </div>\n",
              "  </div>\n",
              "  "
            ]
          },
          "metadata": {},
          "execution_count": 16
        }
      ]
    },
    {
      "cell_type": "code",
      "source": [
        "#four country indices used\n",
        "feats = [\"MSCI KOREA\", \"MSCI DENMARK\", \"MSCI FRANCE\", \"MSCI NORWAY\"]\n",
        "\n",
        "# creating the technical indicators\n",
        "\n",
        "data_df[\"SMA_5\"] = data_df[target_ETF].rolling(5).mean()\n",
        "data_df[\"SMA_15\"] = data_df[target_ETF].rolling(15).mean()\n",
        "data_df[\"SMA_ratio\"] = data_df[\"SMA_15\"] / data_df[\"SMA_5\"]\n",
        "\n",
        "data_df.drop([\"SMA_5\", \"SMA_15\"], axis =1 , inplace = True)\n",
        "\n",
        "data_df[\"Diff\"] = data_df[target_ETF] - data_df[target_ETF].shift(1)\n",
        "data_df[\"Up\"] = data_df[\"Diff\"]\n",
        "data_df.loc[(data_df[\"Up\"] < 0 ), \"Up\"] = 0\n",
        "\n",
        "data_df[\"Down\"] = data_df[\"Diff\"]\n",
        "data_df.loc[(data_df[\"Down\"] > 0), \"Down\"] = 0\n",
        "data_df[\"Down\"] = abs(data_df[\"Down\"])\n",
        "\n",
        "data_df[\"avg_5up\"] = data_df[\"Up\"].rolling(5).mean()\n",
        "data_df[\"avg_5down\"] = data_df[\"Down\"].rolling(5).mean()\n",
        "\n",
        "data_df[\"avg_15up\"] = data_df[\"Up\"].rolling(15).mean()\n",
        "data_df[\"avg_15down\"] = data_df[\"Down\"].rolling(15).mean()\n",
        "\n",
        "data_df[\"RS_5\"] = data_df[\"avg_5up\"] / data_df[\"avg_5down\"]\n",
        "data_df[\"RS_15\"] = data_df[\"avg_15up\"] / data_df[\"avg_15down\"]\n",
        "\n",
        "data_df[\"RSI_5\"] = 100 - (100 / (1 + data_df[\"RS_5\"]))\n",
        "data_df[\"RSI_15\"] = 100 - (100 / (1 + data_df[\"RS_15\"]))\n",
        "\n",
        "data_df[\"RSI_ratio\"] = data_df[\"RSI_5\"] / data_df[\"RSI_15\"]\n",
        "\n",
        "data_df.drop(\n",
        "    [\"Diff\", \"Up\", \"Down\", \"avg_5up\", \"avg_5down\", \"avg_15up\", \"avg_15down\"],\n",
        "    axis = 1,\n",
        "    inplace = True\n",
        ")\n",
        "\n",
        "data_df[\"RC\"] = data_df[target_ETF].pct_change(periods = 15)\n",
        "\n",
        "feats.append(\"SMA_ratio\")\n",
        "feats.append(\"RSI_ratio\")\n",
        "feats.append(\"RC\")\n"
      ],
      "metadata": {
        "id": "qs8DbEc5dH2_"
      },
      "execution_count": null,
      "outputs": []
    },
    {
      "cell_type": "code",
      "source": [
        "from sklearn import model_selection\n",
        "from sklearn.ensemble import RandomForestClassifier\n"
      ],
      "metadata": {
        "id": "jAf7dr0egB1I"
      },
      "execution_count": null,
      "outputs": []
    },
    {
      "cell_type": "code",
      "source": [
        "NoNaN_df  = data_df.dropna()\n",
        "X = NoNaN_df[feats]\n",
        "\n",
        "X = X.iloc[:, :]\n",
        "y = NoNaN_df.loc[:, \"Target\"]\n",
        "\n",
        "del NoNaN_df\n",
        "\n",
        "X_train, X_test, y_train, y_test = model_selection.train_test_split(\n",
        "    X, y, test_size = 0.2, random_state = 0\n",
        ")"
      ],
      "metadata": {
        "id": "4YFg6YwagY6b"
      },
      "execution_count": null,
      "outputs": []
    },
    {
      "cell_type": "code",
      "source": [
        "bagmodel = RandomForestClassifier(n_estimators = 10, random_state = 4)"
      ],
      "metadata": {
        "id": "39LHiUoags09"
      },
      "execution_count": null,
      "outputs": []
    },
    {
      "cell_type": "code",
      "source": [
        "bagmodel.fit(X_train, y_train)\n",
        "\n",
        "print(\"Accuracy on train set: %0.4f\" % (bagmodel.score(X_train, y_train)))\n",
        "print(\"Accuray on test set: %0.4f\" % (bagmodel.score(X_test, y_test)))"
      ],
      "metadata": {
        "colab": {
          "base_uri": "https://localhost:8080/"
        },
        "id": "koVpGo7gg9kC",
        "outputId": "fe573e30-d948-4c1c-b5ab-48f9e417dcc5"
      },
      "execution_count": null,
      "outputs": [
        {
          "output_type": "stream",
          "name": "stdout",
          "text": [
            "Accuracy on train set: 0.9787\n",
            "Accuray on test set: 0.5208\n"
          ]
        }
      ]
    },
    {
      "cell_type": "code",
      "source": [
        "from sklearn.model_selection import GridSearchCV\n"
      ],
      "metadata": {
        "id": "up7Sb7R6hMhP"
      },
      "execution_count": null,
      "outputs": []
    },
    {
      "cell_type": "code",
      "source": [
        "param_grid = {\n",
        "    \"n_estimators\" : [10],\n",
        "    \"max_depth\" : [2, 3, 4],\n",
        "    \"min_samples_split\" : [2, 4, 8],\n",
        "}\n",
        "grid = GridSearchCV(\n",
        "    RandomForestClassifier(random_state = 8), param_grid, refit = True, verbose = 3, cv = 3\n",
        ")\n",
        "grid.fit(X_train, y_train)"
      ],
      "metadata": {
        "colab": {
          "base_uri": "https://localhost:8080/",
          "height": 622
        },
        "id": "7o9ZD5_Nhnfu",
        "outputId": "f69f43f0-194d-475d-99d1-f693072e06c6"
      },
      "execution_count": null,
      "outputs": [
        {
          "output_type": "stream",
          "name": "stdout",
          "text": [
            "Fitting 3 folds for each of 9 candidates, totalling 27 fits\n",
            "[CV 1/3] END max_depth=2, min_samples_split=2, n_estimators=10;, score=0.698 total time=   0.1s\n",
            "[CV 2/3] END max_depth=2, min_samples_split=2, n_estimators=10;, score=0.651 total time=   0.1s\n",
            "[CV 3/3] END max_depth=2, min_samples_split=2, n_estimators=10;, score=0.661 total time=   0.1s\n",
            "[CV 1/3] END max_depth=2, min_samples_split=4, n_estimators=10;, score=0.698 total time=   0.1s\n",
            "[CV 2/3] END max_depth=2, min_samples_split=4, n_estimators=10;, score=0.651 total time=   0.1s\n",
            "[CV 3/3] END max_depth=2, min_samples_split=4, n_estimators=10;, score=0.661 total time=   0.1s\n",
            "[CV 1/3] END max_depth=2, min_samples_split=8, n_estimators=10;, score=0.698 total time=   0.1s\n",
            "[CV 2/3] END max_depth=2, min_samples_split=8, n_estimators=10;, score=0.635 total time=   0.0s\n",
            "[CV 3/3] END max_depth=2, min_samples_split=8, n_estimators=10;, score=0.694 total time=   0.0s\n",
            "[CV 1/3] END max_depth=3, min_samples_split=2, n_estimators=10;, score=0.683 total time=   0.0s\n",
            "[CV 2/3] END max_depth=3, min_samples_split=2, n_estimators=10;, score=0.619 total time=   0.0s\n",
            "[CV 3/3] END max_depth=3, min_samples_split=2, n_estimators=10;, score=0.677 total time=   0.0s\n",
            "[CV 1/3] END max_depth=3, min_samples_split=4, n_estimators=10;, score=0.683 total time=   0.0s\n",
            "[CV 2/3] END max_depth=3, min_samples_split=4, n_estimators=10;, score=0.619 total time=   0.1s\n",
            "[CV 3/3] END max_depth=3, min_samples_split=4, n_estimators=10;, score=0.661 total time=   0.1s\n",
            "[CV 1/3] END max_depth=3, min_samples_split=8, n_estimators=10;, score=0.683 total time=   0.1s\n",
            "[CV 2/3] END max_depth=3, min_samples_split=8, n_estimators=10;, score=0.619 total time=   0.1s\n",
            "[CV 3/3] END max_depth=3, min_samples_split=8, n_estimators=10;, score=0.629 total time=   0.0s\n",
            "[CV 1/3] END max_depth=4, min_samples_split=2, n_estimators=10;, score=0.730 total time=   0.1s\n",
            "[CV 2/3] END max_depth=4, min_samples_split=2, n_estimators=10;, score=0.619 total time=   0.1s\n",
            "[CV 3/3] END max_depth=4, min_samples_split=2, n_estimators=10;, score=0.726 total time=   0.1s\n",
            "[CV 1/3] END max_depth=4, min_samples_split=4, n_estimators=10;, score=0.746 total time=   0.1s\n",
            "[CV 2/3] END max_depth=4, min_samples_split=4, n_estimators=10;, score=0.619 total time=   0.0s\n",
            "[CV 3/3] END max_depth=4, min_samples_split=4, n_estimators=10;, score=0.677 total time=   0.0s\n",
            "[CV 1/3] END max_depth=4, min_samples_split=8, n_estimators=10;, score=0.714 total time=   0.1s\n",
            "[CV 2/3] END max_depth=4, min_samples_split=8, n_estimators=10;, score=0.635 total time=   0.1s\n",
            "[CV 3/3] END max_depth=4, min_samples_split=8, n_estimators=10;, score=0.710 total time=   0.0s\n"
          ]
        },
        {
          "output_type": "execute_result",
          "data": {
            "text/plain": [
              "GridSearchCV(cv=3, estimator=RandomForestClassifier(random_state=8),\n",
              "             param_grid={'max_depth': [2, 3, 4], 'min_samples_split': [2, 4, 8],\n",
              "                         'n_estimators': [10]},\n",
              "             verbose=3)"
            ],
            "text/html": [
              "<style>#sk-container-id-1 {color: black;background-color: white;}#sk-container-id-1 pre{padding: 0;}#sk-container-id-1 div.sk-toggleable {background-color: white;}#sk-container-id-1 label.sk-toggleable__label {cursor: pointer;display: block;width: 100%;margin-bottom: 0;padding: 0.3em;box-sizing: border-box;text-align: center;}#sk-container-id-1 label.sk-toggleable__label-arrow:before {content: \"▸\";float: left;margin-right: 0.25em;color: #696969;}#sk-container-id-1 label.sk-toggleable__label-arrow:hover:before {color: black;}#sk-container-id-1 div.sk-estimator:hover label.sk-toggleable__label-arrow:before {color: black;}#sk-container-id-1 div.sk-toggleable__content {max-height: 0;max-width: 0;overflow: hidden;text-align: left;background-color: #f0f8ff;}#sk-container-id-1 div.sk-toggleable__content pre {margin: 0.2em;color: black;border-radius: 0.25em;background-color: #f0f8ff;}#sk-container-id-1 input.sk-toggleable__control:checked~div.sk-toggleable__content {max-height: 200px;max-width: 100%;overflow: auto;}#sk-container-id-1 input.sk-toggleable__control:checked~label.sk-toggleable__label-arrow:before {content: \"▾\";}#sk-container-id-1 div.sk-estimator input.sk-toggleable__control:checked~label.sk-toggleable__label {background-color: #d4ebff;}#sk-container-id-1 div.sk-label input.sk-toggleable__control:checked~label.sk-toggleable__label {background-color: #d4ebff;}#sk-container-id-1 input.sk-hidden--visually {border: 0;clip: rect(1px 1px 1px 1px);clip: rect(1px, 1px, 1px, 1px);height: 1px;margin: -1px;overflow: hidden;padding: 0;position: absolute;width: 1px;}#sk-container-id-1 div.sk-estimator {font-family: monospace;background-color: #f0f8ff;border: 1px dotted black;border-radius: 0.25em;box-sizing: border-box;margin-bottom: 0.5em;}#sk-container-id-1 div.sk-estimator:hover {background-color: #d4ebff;}#sk-container-id-1 div.sk-parallel-item::after {content: \"\";width: 100%;border-bottom: 1px solid gray;flex-grow: 1;}#sk-container-id-1 div.sk-label:hover label.sk-toggleable__label {background-color: #d4ebff;}#sk-container-id-1 div.sk-serial::before {content: \"\";position: absolute;border-left: 1px solid gray;box-sizing: border-box;top: 0;bottom: 0;left: 50%;z-index: 0;}#sk-container-id-1 div.sk-serial {display: flex;flex-direction: column;align-items: center;background-color: white;padding-right: 0.2em;padding-left: 0.2em;position: relative;}#sk-container-id-1 div.sk-item {position: relative;z-index: 1;}#sk-container-id-1 div.sk-parallel {display: flex;align-items: stretch;justify-content: center;background-color: white;position: relative;}#sk-container-id-1 div.sk-item::before, #sk-container-id-1 div.sk-parallel-item::before {content: \"\";position: absolute;border-left: 1px solid gray;box-sizing: border-box;top: 0;bottom: 0;left: 50%;z-index: -1;}#sk-container-id-1 div.sk-parallel-item {display: flex;flex-direction: column;z-index: 1;position: relative;background-color: white;}#sk-container-id-1 div.sk-parallel-item:first-child::after {align-self: flex-end;width: 50%;}#sk-container-id-1 div.sk-parallel-item:last-child::after {align-self: flex-start;width: 50%;}#sk-container-id-1 div.sk-parallel-item:only-child::after {width: 0;}#sk-container-id-1 div.sk-dashed-wrapped {border: 1px dashed gray;margin: 0 0.4em 0.5em 0.4em;box-sizing: border-box;padding-bottom: 0.4em;background-color: white;}#sk-container-id-1 div.sk-label label {font-family: monospace;font-weight: bold;display: inline-block;line-height: 1.2em;}#sk-container-id-1 div.sk-label-container {text-align: center;}#sk-container-id-1 div.sk-container {/* jupyter's `normalize.less` sets `[hidden] { display: none; }` but bootstrap.min.css set `[hidden] { display: none !important; }` so we also need the `!important` here to be able to override the default hidden behavior on the sphinx rendered scikit-learn.org. See: https://github.com/scikit-learn/scikit-learn/issues/21755 */display: inline-block !important;position: relative;}#sk-container-id-1 div.sk-text-repr-fallback {display: none;}</style><div id=\"sk-container-id-1\" class=\"sk-top-container\"><div class=\"sk-text-repr-fallback\"><pre>GridSearchCV(cv=3, estimator=RandomForestClassifier(random_state=8),\n",
              "             param_grid={&#x27;max_depth&#x27;: [2, 3, 4], &#x27;min_samples_split&#x27;: [2, 4, 8],\n",
              "                         &#x27;n_estimators&#x27;: [10]},\n",
              "             verbose=3)</pre><b>In a Jupyter environment, please rerun this cell to show the HTML representation or trust the notebook. <br />On GitHub, the HTML representation is unable to render, please try loading this page with nbviewer.org.</b></div><div class=\"sk-container\" hidden><div class=\"sk-item sk-dashed-wrapped\"><div class=\"sk-label-container\"><div class=\"sk-label sk-toggleable\"><input class=\"sk-toggleable__control sk-hidden--visually\" id=\"sk-estimator-id-1\" type=\"checkbox\" ><label for=\"sk-estimator-id-1\" class=\"sk-toggleable__label sk-toggleable__label-arrow\">GridSearchCV</label><div class=\"sk-toggleable__content\"><pre>GridSearchCV(cv=3, estimator=RandomForestClassifier(random_state=8),\n",
              "             param_grid={&#x27;max_depth&#x27;: [2, 3, 4], &#x27;min_samples_split&#x27;: [2, 4, 8],\n",
              "                         &#x27;n_estimators&#x27;: [10]},\n",
              "             verbose=3)</pre></div></div></div><div class=\"sk-parallel\"><div class=\"sk-parallel-item\"><div class=\"sk-item\"><div class=\"sk-label-container\"><div class=\"sk-label sk-toggleable\"><input class=\"sk-toggleable__control sk-hidden--visually\" id=\"sk-estimator-id-2\" type=\"checkbox\" ><label for=\"sk-estimator-id-2\" class=\"sk-toggleable__label sk-toggleable__label-arrow\">estimator: RandomForestClassifier</label><div class=\"sk-toggleable__content\"><pre>RandomForestClassifier(random_state=8)</pre></div></div></div><div class=\"sk-serial\"><div class=\"sk-item\"><div class=\"sk-estimator sk-toggleable\"><input class=\"sk-toggleable__control sk-hidden--visually\" id=\"sk-estimator-id-3\" type=\"checkbox\" ><label for=\"sk-estimator-id-3\" class=\"sk-toggleable__label sk-toggleable__label-arrow\">RandomForestClassifier</label><div class=\"sk-toggleable__content\"><pre>RandomForestClassifier(random_state=8)</pre></div></div></div></div></div></div></div></div></div></div>"
            ]
          },
          "metadata": {},
          "execution_count": 24
        }
      ]
    },
    {
      "cell_type": "code",
      "source": [
        "print(grid.best_params_)\n",
        "print(grid.best_estimator_)"
      ],
      "metadata": {
        "colab": {
          "base_uri": "https://localhost:8080/"
        },
        "id": "5IZWdlQHh60a",
        "outputId": "866f22d9-1561-4e8c-fa16-ec415198ef58"
      },
      "execution_count": null,
      "outputs": [
        {
          "output_type": "stream",
          "name": "stdout",
          "text": [
            "{'max_depth': 4, 'min_samples_split': 2, 'n_estimators': 10}\n",
            "RandomForestClassifier(max_depth=4, n_estimators=10, random_state=8)\n"
          ]
        }
      ]
    },
    {
      "cell_type": "code",
      "source": [
        "bagmodel_tuned = RandomForestClassifier(\n",
        "    n_estimators = 10,\n",
        "    max_depth = grid.best_params_[\"max_depth\"] ,\n",
        "    min_samples_split = grid.best_params_[\"min_samples_split\"],\n",
        ")\n",
        "bagmodel_tuned.fit(X_train, y_train)\n",
        "print(\"Accuracy on test set: %0.4f\" % (bagmodel_tuned.score(X_test, y_test)))\n"
      ],
      "metadata": {
        "colab": {
          "base_uri": "https://localhost:8080/"
        },
        "id": "6fcnVvlaiAc8",
        "outputId": "a170d70c-4309-417d-f731-5f543a09de1a"
      },
      "execution_count": null,
      "outputs": [
        {
          "output_type": "stream",
          "name": "stdout",
          "text": [
            "Accuracy on test set: 0.6250\n"
          ]
        }
      ]
    },
    {
      "cell_type": "code",
      "source": [
        "import matplotlib.pyplot as plt\n",
        "\n",
        "# Performance\n",
        "from sklearn.metrics import roc_auc_score, roc_curve\n",
        "\n",
        "# predicted probabilities generated by tuned classifier\n",
        "y_pred_proba = bagmodel_tuned.predict_proba(X_test)\n",
        "\n",
        "# RF ROC dependencies\n",
        "fpr, tpr, _ = roc_curve(y_test, y_pred_proba[:, 1])\n",
        "auc = round(roc_auc_score(y_test, y_pred_proba[:, 1]), 4)\n",
        "\n",
        "# RF Model\n",
        "plt.plot(fpr, tpr, label=\"RF, auc=\" + str(auc))\n",
        "\n",
        "# Random guess model\n",
        "plt.plot(fpr, fpr, \"-\", label=\"Random\")\n",
        "plt.title(\"ROC\")\n",
        "plt.ylabel(\"TPR\")\n",
        "plt.xlabel(\"FPR\")\n",
        "\n",
        "plt.legend(loc=4)\n",
        "plt.show()"
      ],
      "metadata": {
        "colab": {
          "base_uri": "https://localhost:8080/",
          "height": 472
        },
        "id": "i_XGEgdfidAw",
        "outputId": "4542ecc4-1f1d-48f1-f314-a28a836e61fa"
      },
      "execution_count": null,
      "outputs": [
        {
          "output_type": "display_data",
          "data": {
            "text/plain": [
              "<Figure size 640x480 with 1 Axes>"
            ],
            "image/png": "[encoded data removed]"
          },
          "metadata": {}
        }
      ]
    },
    {
      "cell_type": "markdown",
      "source": [
        "stacking\n"
      ],
      "metadata": {
        "id": "emG69PXijQyi"
      }
    },
    {
      "cell_type": "markdown",
      "source": [
        "base models = \"Gaussian Naive Bayes\", \"Decision Tree\", \"SVM classifiers\"\n",
        "\n",
        "meta model = Logistic regression"
      ],
      "metadata": {
        "id": "mJ7Ib3WqjcJM"
      }
    },
    {
      "cell_type": "code",
      "source": [
        "from sklearn.ensemble import StackingClassifier\n",
        "from sklearn.linear_model import LogisticRegression\n",
        "from sklearn.naive_bayes import GaussianNB\n",
        "from sklearn.svm import SVC\n",
        "from sklearn.tree import DecisionTreeClassifier"
      ],
      "metadata": {
        "id": "aegtiLudikoi"
      },
      "execution_count": null,
      "outputs": []
    },
    {
      "cell_type": "code",
      "source": [
        "clf1 = DecisionTreeClassifier(random_state = 2)\n",
        "clf2 = SVC(kernel = 'rbf', random_state = 2)\n",
        "clf3 = GaussianNB()\n",
        "\n",
        "est_rs = [(\"DTree\", clf1), (\"SVM\", clf2), (\"NB\", clf3)]\n"
      ],
      "metadata": {
        "id": "g17Oq-SfjzKK"
      },
      "execution_count": null,
      "outputs": []
    },
    {
      "cell_type": "code",
      "source": [
        "mylr = LogisticRegression(random_state = 2)"
      ],
      "metadata": {
        "id": "ABjSo-JAkGr4"
      },
      "execution_count": null,
      "outputs": []
    },
    {
      "cell_type": "code",
      "source": [
        "stackingCLF = StackingClassifier(\n",
        "    estimators = est_rs, final_estimator= mylr, stack_method = \"auto\", cv = 3\n",
        ")"
      ],
      "metadata": {
        "id": "w-mx2_FWkKdS"
      },
      "execution_count": null,
      "outputs": []
    },
    {
      "cell_type": "code",
      "source": [
        "stackingCLF.fit(X_train, y_train)\n",
        "acc_score = stackingCLF.score(X_train, y_train)\n",
        "round(acc_score, 4)\n"
      ],
      "metadata": {
        "colab": {
          "base_uri": "https://localhost:8080/"
        },
        "id": "LJFQBS3NkSnZ",
        "outputId": "ead371ae-5c47-4e55-d23a-eef53a2dda71"
      },
      "execution_count": null,
      "outputs": [
        {
          "output_type": "execute_result",
          "data": {
            "text/plain": [
              "0.7021"
            ]
          },
          "metadata": {},
          "execution_count": 33
        }
      ]
    },
    {
      "cell_type": "code",
      "source": [
        "for iterclf, iterlabel in zip([clf1, clf2, clf3], [\"DTree\", \"SVM\", \"NB\"]):\n",
        "    scores = model_selection.cross_val_score(\n",
        "        iterclf, X_train, y_train, cv = 3, scoring = \"accuracy\"\n",
        "    )\n",
        "    print(\"accuracy : %0.3f %s \" % (scores.mean(), iterlabel))"
      ],
      "metadata": {
        "colab": {
          "base_uri": "https://localhost:8080/"
        },
        "id": "Y1FJyfkmkb2v",
        "outputId": "9d140c11-c756-4a2f-f469-dfcca79adf15"
      },
      "execution_count": null,
      "outputs": [
        {
          "output_type": "stream",
          "name": "stdout",
          "text": [
            "accuracy : 0.559 DTree \n",
            "accuracy : 0.697 SVM \n",
            "accuracy : 0.686 NB \n"
          ]
        }
      ]
    },
    {
      "cell_type": "code",
      "source": [
        "# predicted probabilities generated by tuned classifier\n",
        "y_pred_probaStack = stackingCLF.predict_proba(X_test)\n",
        "\n",
        "# Stacking Model ROC dependencies\n",
        "fpr, tpr, _ = roc_curve(y_test, y_pred_probaStack[:, 1])\n",
        "auc = round(roc_auc_score(y_test, y_pred_probaStack[:, 1]), 4)\n",
        "\n",
        "# RF ROC dependencies\n",
        "fpr_RF, tpr_RF, _ = roc_curve(y_test, y_pred_proba[:, 1])\n",
        "auc_RF = round(roc_auc_score(y_test, y_pred_proba[:, 1]), 4)\n",
        "\n",
        "# RF Model\n",
        "plt.plot(fpr_RF, tpr_RF, label=\"RF, auc=\" + str(auc_RF))\n",
        "# Stacking Model\n",
        "plt.plot(fpr, tpr, label=\"StackM, auc=\" + str(auc))\n",
        "\n",
        "# Random guess model\n",
        "plt.plot(fpr, fpr, \"-\", label=\"Random\")\n",
        "plt.title(\"ROC\")\n",
        "plt.ylabel(\"TPR\")\n",
        "plt.xlabel(\"FPR\")\n",
        "\n",
        "plt.legend(loc=4)\n",
        "plt.show()"
      ],
      "metadata": {
        "colab": {
          "base_uri": "https://localhost:8080/",
          "height": 472
        },
        "id": "rzVfB5nfkx7L",
        "outputId": "406e2dd8-3a81-4dda-fa26-51e9c8615f25"
      },
      "execution_count": null,
      "outputs": [
        {
          "output_type": "display_data",
          "data": {
            "text/plain": [
              "<Figure size 640x480 with 1 Axes>"
            ],
            "image/png": "[encoded data removed]"
          },
          "metadata": {}
        }
      ]
    },
    {
      "cell_type": "code",
      "source": [],
      "metadata": {
        "id": "SOWMaaiUk1_p"
      },
      "execution_count": null,
      "outputs": []
    }
  ]
}